{
 "cells": [
  {
   "cell_type": "code",
   "execution_count": 7,
   "id": "95a3e182",
   "metadata": {},
   "outputs": [
    {
     "data": {
      "text/plain": [
       "array([ 1,  2,  3,  4,  5,  6,  7,  8,  9, 10, 11, 12, 13, 14, 15, 16, 17,\n",
       "       18, 19, 20])"
      ]
     },
     "execution_count": 7,
     "metadata": {},
     "output_type": "execute_result"
    }
   ],
   "source": [
    "import numpy as np\n",
    "\n",
    "arr = []\n",
    "for a in range(1, 21):\n",
    "    arr.append(a)\n",
    "array1 = np.array(arr)\n",
    "array1"
   ]
  },
  {
   "cell_type": "code",
   "execution_count": 8,
   "id": "fdf064b5",
   "metadata": {},
   "outputs": [
    {
     "data": {
      "text/plain": [
       "[[1, 2, 3, 4, 5, 6],\n",
       " [7, 8, 9, 10, 11, 12],\n",
       " [13, 14, 15, 16, 17, 18],\n",
       " [19, 20, 21, 22, 23, 24]]"
      ]
     },
     "execution_count": 8,
     "metadata": {},
     "output_type": "execute_result"
    }
   ],
   "source": [
    "array2 = ([1,  2,  3],  [4,  5,  6],  [7,  8,  9], [10, 11, 12], [13, 14, 15])\n",
    "array2"
   ]
  },
  {
   "cell_type": "code",
   "execution_count": 10,
   "id": "b3b37dd6",
   "metadata": {},
   "outputs": [
    {
     "data": {
      "text/plain": [
       "[19, 20, 21, 22, 23, 24]"
      ]
     },
     "execution_count": 10,
     "metadata": {},
     "output_type": "execute_result"
    }
   ],
   "source": [
    "array2[-1]"
   ]
  },
  {
   "cell_type": "code",
   "execution_count": 11,
   "id": "4da83d49",
   "metadata": {},
   "outputs": [
    {
     "data": {
      "text/plain": [
       "[[1, 2, 3, 4, 5, 6],\n",
       " [7, 8, 9, 10, 11, 12],\n",
       " [13, 14, 15, 16, 17, 18],\n",
       " [19, 20, 21, 22, 23, 24]]"
      ]
     },
     "execution_count": 11,
     "metadata": {},
     "output_type": "execute_result"
    }
   ],
   "source": [
    "array2"
   ]
  },
  {
   "cell_type": "code",
   "execution_count": 12,
   "id": "6ee99852",
   "metadata": {},
   "outputs": [
    {
     "data": {
      "text/plain": [
       "[[1, 2, 3, 4, 5, 6],\n",
       " [7, 8, 9, 10, 11, 12],\n",
       " [13, 14, 15, 16, 17, 18],\n",
       " [19, 20, 21, 22, 23, 24]]"
      ]
     },
     "execution_count": 12,
     "metadata": {},
     "output_type": "execute_result"
    }
   ],
   "source": [
    "array2"
   ]
  },
  {
   "cell_type": "code",
   "execution_count": 13,
   "id": "a1332682",
   "metadata": {},
   "outputs": [
    {
     "data": {
      "text/plain": [
       "[[1, 2, 3, 4, 5, 6],\n",
       " [7, 8, 9, 10, 11, 12],\n",
       " [13, 14, 15, 16, 17, 18],\n",
       " [19, 20, 21, 22, 23, 24]]"
      ]
     },
     "execution_count": 13,
     "metadata": {},
     "output_type": "execute_result"
    }
   ],
   "source": [
    "array2"
   ]
  },
  {
   "cell_type": "code",
   "execution_count": 14,
   "id": "0b47ae76",
   "metadata": {},
   "outputs": [
    {
     "data": {
      "text/plain": [
       "[[1, 2, 3, 4, 5, 6],\n",
       " [7, 8, 9, 10, 11, 12],\n",
       " [13, 14, 15, 16, 17, 18],\n",
       " [19, 20, 21, 22, 23, 24]]"
      ]
     },
     "execution_count": 14,
     "metadata": {},
     "output_type": "execute_result"
    }
   ],
   "source": [
    "array2"
   ]
  },
  {
   "cell_type": "code",
   "execution_count": 15,
   "id": "76c6b4c1",
   "metadata": {},
   "outputs": [
    {
     "ename": "NameError",
     "evalue": "name 'clear' is not defined",
     "output_type": "error",
     "traceback": [
      "\u001b[1;31m---------------------------------------------------------------------------\u001b[0m",
      "\u001b[1;31mNameError\u001b[0m                                 Traceback (most recent call last)",
      "Cell \u001b[1;32mIn[15], line 1\u001b[0m\n\u001b[1;32m----> 1\u001b[0m \u001b[43mclear\u001b[49m\n",
      "\u001b[1;31mNameError\u001b[0m: name 'clear' is not defined"
     ]
    }
   ],
   "source": [
    "clear\n",
    "\n"
   ]
  },
  {
   "cell_type": "code",
   "execution_count": 17,
   "id": "f6427b03",
   "metadata": {},
   "outputs": [
    {
     "data": {
      "text/plain": [
       "array([ 10,  20,  30,  40,  50,  60,  70,  80,  90, 100, 110, 120, 130,\n",
       "       140, 150, 160, 170, 180, 190])"
      ]
     },
     "execution_count": 17,
     "metadata": {},
     "output_type": "execute_result"
    }
   ],
   "source": [
    "array3 = np.array(range(10,200,10))\n",
    "array3"
   ]
  },
  {
   "cell_type": "code",
   "execution_count": 18,
   "id": "1dab331a",
   "metadata": {},
   "outputs": [
    {
     "data": {
      "text/plain": [
       "array([100, 110, 120])"
      ]
     },
     "execution_count": 18,
     "metadata": {},
     "output_type": "execute_result"
    }
   ],
   "source": [
    "slicee = array3[9:12].copy()\n",
    "slicee"
   ]
  },
  {
   "cell_type": "code",
   "execution_count": 19,
   "id": "77af0e9d",
   "metadata": {},
   "outputs": [
    {
     "data": {
      "text/plain": [
       "array([ 10,  20,  30,  40,  50,  60,  70,  80,  90, 100, 110, 120, 130,\n",
       "       140, 150, 160, 170, 180, 190])"
      ]
     },
     "execution_count": 19,
     "metadata": {},
     "output_type": "execute_result"
    }
   ],
   "source": [
    "slicee[:] = 0\n",
    "array3"
   ]
  },
  {
   "cell_type": "code",
   "execution_count": 20,
   "id": "f7364697",
   "metadata": {},
   "outputs": [
    {
     "data": {
      "text/plain": [
       "array([[1, 2, 3],\n",
       "       [4, 5, 6],\n",
       "       [7, 8, 9]])"
      ]
     },
     "execution_count": 20,
     "metadata": {},
     "output_type": "execute_result"
    }
   ],
   "source": [
    "arr2d = np.array([[1, 2, 3], [4, 5, 6], [7, 8, 9]]) # (3, 3) o'lchamli massiv\n",
    "arr2d"
   ]
  },
  {
   "cell_type": "code",
   "execution_count": 26,
   "id": "aa295ebc",
   "metadata": {},
   "outputs": [
    {
     "data": {
      "text/plain": [
       "array([[2, 3],\n",
       "       [5, 6],\n",
       "       [8, 9]])"
      ]
     },
     "execution_count": 26,
     "metadata": {},
     "output_type": "execute_result"
    }
   ],
   "source": [
    "arr2d[:,1:]"
   ]
  },
  {
   "cell_type": "markdown",
   "id": "fec698a9",
   "metadata": {},
   "source": [
    "arr2d"
   ]
  },
  {
   "cell_type": "code",
   "execution_count": 27,
   "id": "186e72d4",
   "metadata": {},
   "outputs": [
    {
     "data": {
      "text/plain": [
       "array([[1, 2, 3],\n",
       "       [4, 5, 6],\n",
       "       [7, 8, 9]])"
      ]
     },
     "execution_count": 27,
     "metadata": {},
     "output_type": "execute_result"
    }
   ],
   "source": [
    "arr2d"
   ]
  },
  {
   "cell_type": "code",
   "execution_count": 29,
   "id": "5d18c1d8",
   "metadata": {},
   "outputs": [
    {
     "data": {
      "text/plain": [
       "array([[1, 2]])"
      ]
     },
     "execution_count": 29,
     "metadata": {},
     "output_type": "execute_result"
    }
   ],
   "source": [
    "arr2d[:1,:2]"
   ]
  },
  {
   "cell_type": "code",
   "execution_count": 38,
   "id": "56d445ea",
   "metadata": {},
   "outputs": [
    {
     "data": {
      "text/plain": [
       "array([[4, 5]])"
      ]
     },
     "execution_count": 38,
     "metadata": {},
     "output_type": "execute_result"
    }
   ],
   "source": [
    "arr2d[1:2,:2]"
   ]
  },
  {
   "cell_type": "code",
   "execution_count": 39,
   "id": "67edef41",
   "metadata": {},
   "outputs": [
    {
     "data": {
      "text/plain": [
       "array([[[ 0,  1,  2],\n",
       "        [ 3,  4,  5],\n",
       "        [ 6,  7,  8]],\n",
       "\n",
       "       [[ 9, 10, 11],\n",
       "        [12, 13, 14],\n",
       "        [15, 16, 17]],\n",
       "\n",
       "       [[18, 19, 20],\n",
       "        [21, 22, 23],\n",
       "        [24, 25, 26]]])"
      ]
     },
     "execution_count": 39,
     "metadata": {},
     "output_type": "execute_result"
    }
   ],
   "source": [
    "# 3D array\n",
    "arr3d = np.array([[[ 0,  1,  2],\n",
    "                   [ 3,  4,  5],\n",
    "                   [ 6,  7,  8]],\n",
    "\n",
    "                  [[ 9, 10, 11],\n",
    "                   [12, 13, 14],\n",
    "                   [15, 16, 17]],\n",
    "\n",
    "                  [[18, 19, 20],\n",
    "                   [21, 22, 23],\n",
    "                   [24, 25, 26]]])\n",
    "arr3d"
   ]
  },
  {
   "cell_type": "code",
   "execution_count": 76,
   "id": "3c935e5a",
   "metadata": {},
   "outputs": [
    {
     "data": {
      "text/plain": [
       "array([[12, 13],\n",
       "       [15, 16]])"
      ]
     },
     "execution_count": 76,
     "metadata": {},
     "output_type": "execute_result"
    }
   ],
   "source": [
    "array1 = arr3d[1][1:,:2]\n",
    "array1"
   ]
  },
  {
   "cell_type": "code",
   "execution_count": 41,
   "id": "29489d3c",
   "metadata": {},
   "outputs": [
    {
     "data": {
      "text/plain": [
       "array([[19, 20],\n",
       "       [22, 23]])"
      ]
     },
     "execution_count": 41,
     "metadata": {},
     "output_type": "execute_result"
    }
   ],
   "source": [
    "arr3d[2][:2,1:]"
   ]
  },
  {
   "cell_type": "code",
   "execution_count": 42,
   "id": "e8d56a45",
   "metadata": {},
   "outputs": [
    {
     "data": {
      "text/plain": [
       "array([[10],\n",
       "       [13],\n",
       "       [16]])"
      ]
     },
     "execution_count": 42,
     "metadata": {},
     "output_type": "execute_result"
    }
   ],
   "source": [
    "arr3d[1][:,1:2]"
   ]
  },
  {
   "cell_type": "code",
   "execution_count": 43,
   "id": "5b597fb9",
   "metadata": {},
   "outputs": [
    {
     "data": {
      "text/plain": [
       "array([[21, 22, 23]])"
      ]
     },
     "execution_count": 43,
     "metadata": {},
     "output_type": "execute_result"
    }
   ],
   "source": [
    "arr3d[2][1:2,:]"
   ]
  },
  {
   "cell_type": "code",
   "execution_count": 44,
   "id": "69378ceb",
   "metadata": {},
   "outputs": [
    {
     "data": {
      "text/plain": [
       "array(['Hasan', 'Husan', 'Mirzabek', 'Elyor', 'Hasan', 'Javohir', 'Elyor'],\n",
       "      dtype='<U8')"
      ]
     },
     "execution_count": 44,
     "metadata": {},
     "output_type": "execute_result"
    }
   ],
   "source": [
    "# Ismlar\n",
    "names = np.array(['Hasan', 'Husan', 'Mirzabek', 'Elyor', 'Hasan', 'Javohir', 'Elyor'])\n",
    "names"
   ]
  },
  {
   "cell_type": "code",
   "execution_count": 45,
   "id": "fb2468ee",
   "metadata": {},
   "outputs": [
    {
     "data": {
      "text/plain": [
       "array([[-1.43094987, -0.96824051,  0.18258092, -0.1473194 ],\n",
       "       [-1.21802569,  0.7200958 , -1.91548968, -0.40271435],\n",
       "       [ 0.39827624, -1.83174967,  1.99978723,  0.36035226],\n",
       "       [-0.10638013,  1.67542817,  1.268048  ,  0.42772282],\n",
       "       [ 0.06147411, -1.24296653, -1.17070499,  0.31894493],\n",
       "       [-0.22563278,  0.11466897, -2.31420948,  1.67228611],\n",
       "       [-0.8680851 , -1.60710738, -0.14393   ,  0.53726636]])"
      ]
     },
     "execution_count": 45,
     "metadata": {},
     "output_type": "execute_result"
    }
   ],
   "source": [
    "# data\n",
    "data = np.random.randn(7, 4)\n",
    "data"
   ]
  },
  {
   "cell_type": "code",
   "execution_count": 46,
   "id": "873703d5",
   "metadata": {},
   "outputs": [
    {
     "data": {
      "text/plain": [
       "array([ True, False, False, False,  True, False, False])"
      ]
     },
     "execution_count": 46,
     "metadata": {},
     "output_type": "execute_result"
    }
   ],
   "source": [
    "names == 'Hasan'"
   ]
  },
  {
   "cell_type": "code",
   "execution_count": 47,
   "id": "94675d60",
   "metadata": {},
   "outputs": [
    {
     "data": {
      "text/plain": [
       "array([[-1.43094987, -0.96824051,  0.18258092, -0.1473194 ],\n",
       "       [ 0.06147411, -1.24296653, -1.17070499,  0.31894493]])"
      ]
     },
     "execution_count": 47,
     "metadata": {},
     "output_type": "execute_result"
    }
   ],
   "source": [
    "data[names == 'Hasan']"
   ]
  },
  {
   "cell_type": "code",
   "execution_count": 48,
   "id": "de9716d4",
   "metadata": {},
   "outputs": [
    {
     "data": {
      "text/plain": [
       "array([[-0.10638013,  1.67542817,  1.268048  ,  0.42772282],\n",
       "       [-0.8680851 , -1.60710738, -0.14393   ,  0.53726636]])"
      ]
     },
     "execution_count": 48,
     "metadata": {},
     "output_type": "execute_result"
    }
   ],
   "source": [
    "data[names == 'Elyor']"
   ]
  },
  {
   "cell_type": "code",
   "execution_count": 51,
   "id": "a2139073",
   "metadata": {},
   "outputs": [
    {
     "data": {
      "text/plain": [
       "array([[ 0.39827624, -1.83174967,  1.99978723]])"
      ]
     },
     "execution_count": 51,
     "metadata": {},
     "output_type": "execute_result"
    }
   ],
   "source": [
    "data[names == 'Mirzabek',0:2 and 3]"
   ]
  },
  {
   "cell_type": "code",
   "execution_count": 53,
   "id": "64661726",
   "metadata": {},
   "outputs": [
    {
     "data": {
      "text/plain": [
       "array([[ 0.39827624, -1.83174967],\n",
       "       [-0.22563278,  0.11466897]])"
      ]
     },
     "execution_count": 53,
     "metadata": {},
     "output_type": "execute_result"
    }
   ],
   "source": [
    "a = (names == 'Mirzabek') | (names == 'Javohir')\n",
    "data[a,:2:]"
   ]
  },
  {
   "cell_type": "code",
   "execution_count": 54,
   "id": "63564a34",
   "metadata": {},
   "outputs": [
    {
     "data": {
      "text/plain": [
       "array([[-1.43094987, -0.96824051,  0.18258092, -0.1473194 ],\n",
       "       [-1.21802569,  0.7200958 , -1.91548968, -0.40271435],\n",
       "       [ 0.39827624, -1.83174967,  1.99978723,  0.36035226],\n",
       "       [-0.10638013,  1.67542817,  1.268048  ,  0.42772282],\n",
       "       [ 0.06147411, -1.24296653, -1.17070499,  0.31894493],\n",
       "       [-0.22563278,  0.11466897, -2.31420948,  1.67228611],\n",
       "       [-0.8680851 , -1.60710738, -0.14393   ,  0.53726636]])"
      ]
     },
     "execution_count": 54,
     "metadata": {},
     "output_type": "execute_result"
    }
   ],
   "source": [
    "data"
   ]
  },
  {
   "cell_type": "code",
   "execution_count": 57,
   "id": "ac6b29e4",
   "metadata": {},
   "outputs": [
    {
     "ename": "ValueError",
     "evalue": "The truth value of an array with more than one element is ambiguous. Use a.any() or a.all()",
     "output_type": "error",
     "traceback": [
      "\u001b[1;31m---------------------------------------------------------------------------\u001b[0m",
      "\u001b[1;31mValueError\u001b[0m                                Traceback (most recent call last)",
      "Cell \u001b[1;32mIn[57], line 1\u001b[0m\n\u001b[1;32m----> 1\u001b[0m \u001b[38;5;28;01mif\u001b[39;00m \u001b[43mdata\u001b[49m\u001b[43m[\u001b[49m\u001b[43m:\u001b[49m\u001b[43m]\u001b[49m\u001b[38;5;241;43m<\u001b[39;49m\u001b[38;5;241;43m0\u001b[39;49m:\n\u001b[0;32m      2\u001b[0m     data()\u001b[38;5;241m==\u001b[39m\u001b[38;5;241m0\u001b[39m\n\u001b[0;32m      3\u001b[0m data\n",
      "\u001b[1;31mValueError\u001b[0m: The truth value of an array with more than one element is ambiguous. Use a.any() or a.all()"
     ]
    }
   ],
   "source": [
    "if data[:]<0:\n",
    "    data()==0\n",
    "data"
   ]
  },
  {
   "cell_type": "code",
   "execution_count": 58,
   "id": "c5596498",
   "metadata": {},
   "outputs": [
    {
     "data": {
      "text/plain": [
       "array([[0.        , 0.        , 0.18258092, 0.        ],\n",
       "       [0.        , 0.7200958 , 0.        , 0.        ],\n",
       "       [0.39827624, 0.        , 1.99978723, 0.36035226],\n",
       "       [0.        , 1.67542817, 1.268048  , 0.42772282],\n",
       "       [0.06147411, 0.        , 0.        , 0.31894493],\n",
       "       [0.        , 0.11466897, 0.        , 1.67228611],\n",
       "       [0.        , 0.        , 0.        , 0.53726636]])"
      ]
     },
     "execution_count": 58,
     "metadata": {},
     "output_type": "execute_result"
    }
   ],
   "source": [
    "data[data<0] = 0\n",
    "data"
   ]
  },
  {
   "cell_type": "code",
   "execution_count": 59,
   "id": "4b95276c",
   "metadata": {},
   "outputs": [],
   "source": [
    "def nd_array():\n",
    "  \"\"\"Elementlari 0 dan 9 gacha (9 ning o'zi massiv elementiga kirmaydi), \n",
    "  qadami esa 1 ga teng bo'lgan (3, 3) o'lchamli massiv \"\"\"\n",
    "  arr = []\n",
    "  for a in range(0,9,1):\n",
    "    arr.append(a)\n",
    "  array = np.array(arr)\n",
    "  return array"
   ]
  },
  {
   "cell_type": "code",
   "execution_count": 61,
   "id": "173fff7c",
   "metadata": {},
   "outputs": [
    {
     "data": {
      "text/plain": [
       "array([0, 1, 2, 3, 4, 5, 6, 7, 8])"
      ]
     },
     "execution_count": 61,
     "metadata": {},
     "output_type": "execute_result"
    }
   ],
   "source": [
    "nd_array()"
   ]
  },
  {
   "cell_type": "code",
   "execution_count": 62,
   "id": "34ddbc35",
   "metadata": {},
   "outputs": [
    {
     "ename": "NameError",
     "evalue": "name 'shape' is not defined",
     "output_type": "error",
     "traceback": [
      "\u001b[1;31m---------------------------------------------------------------------------\u001b[0m",
      "\u001b[1;31mNameError\u001b[0m                                 Traceback (most recent call last)",
      "Cell \u001b[1;32mIn[62], line 1\u001b[0m\n\u001b[1;32m----> 1\u001b[0m \u001b[43mshape\u001b[49m(nd_array)\n",
      "\u001b[1;31mNameError\u001b[0m: name 'shape' is not defined"
     ]
    }
   ],
   "source": [
    "shape(nd_array)"
   ]
  },
  {
   "cell_type": "code",
   "execution_count": 64,
   "id": "b30b4f41",
   "metadata": {},
   "outputs": [
    {
     "data": {
      "text/plain": [
       "array([0, 1, 2, 3, 4, 5, 6, 7, 8])"
      ]
     },
     "execution_count": 64,
     "metadata": {},
     "output_type": "execute_result"
    }
   ],
   "source": [
    "arr = []\n",
    "for a in range(0,9,1):\n",
    "    arr.append(a)\n",
    "    array = np.array(arr)\n",
    "array"
   ]
  },
  {
   "cell_type": "code",
   "execution_count": 66,
   "id": "ab7606f1",
   "metadata": {},
   "outputs": [
    {
     "ename": "NameError",
     "evalue": "name 'shape' is not defined",
     "output_type": "error",
     "traceback": [
      "\u001b[1;31m---------------------------------------------------------------------------\u001b[0m",
      "\u001b[1;31mNameError\u001b[0m                                 Traceback (most recent call last)",
      "Cell \u001b[1;32mIn[66], line 1\u001b[0m\n\u001b[1;32m----> 1\u001b[0m \u001b[43mshape\u001b[49m(array)\n",
      "\u001b[1;31mNameError\u001b[0m: name 'shape' is not defined"
     ]
    }
   ],
   "source": [
    "shape(array)"
   ]
  },
  {
   "cell_type": "code",
   "execution_count": 67,
   "id": "78ea3361",
   "metadata": {},
   "outputs": [
    {
     "data": {
      "text/plain": [
       "array([0, 1, 2, 3, 4, 5, 6, 7, 8])"
      ]
     },
     "execution_count": 67,
     "metadata": {},
     "output_type": "execute_result"
    }
   ],
   "source": [
    "array\n"
   ]
  },
  {
   "cell_type": "code",
   "execution_count": 70,
   "id": "0ab09f91",
   "metadata": {},
   "outputs": [
    {
     "data": {
      "text/plain": [
       "array([6, 7])"
      ]
     },
     "execution_count": 70,
     "metadata": {},
     "output_type": "execute_result"
    }
   ],
   "source": [
    "array[6:8]"
   ]
  },
  {
   "cell_type": "code",
   "execution_count": 71,
   "id": "cc5f1987",
   "metadata": {},
   "outputs": [
    {
     "data": {
      "text/plain": [
       "array([0, 1, 2, 3, 4, 5, 6, 7, 8])"
      ]
     },
     "execution_count": 71,
     "metadata": {},
     "output_type": "execute_result"
    }
   ],
   "source": [
    "array"
   ]
  },
  {
   "cell_type": "code",
   "execution_count": 73,
   "id": "427f0799",
   "metadata": {},
   "outputs": [
    {
     "data": {
      "text/plain": [
       "array([6, 7])"
      ]
     },
     "execution_count": 73,
     "metadata": {},
     "output_type": "execute_result"
    }
   ],
   "source": [
    "array[6:8]"
   ]
  },
  {
   "cell_type": "code",
   "execution_count": null,
   "id": "5e896a67",
   "metadata": {},
   "outputs": [],
   "source": []
  }
 ],
 "metadata": {
  "kernelspec": {
   "display_name": "Python 3 (ipykernel)",
   "language": "python",
   "name": "python3"
  },
  "language_info": {
   "codemirror_mode": {
    "name": "ipython",
    "version": 3
   },
   "file_extension": ".py",
   "mimetype": "text/x-python",
   "name": "python",
   "nbconvert_exporter": "python",
   "pygments_lexer": "ipython3",
   "version": "3.9.16"
  }
 },
 "nbformat": 4,
 "nbformat_minor": 5
}
