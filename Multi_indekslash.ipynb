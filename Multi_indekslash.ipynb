{
  "nbformat": 4,
  "nbformat_minor": 0,
  "metadata": {
    "colab": {
      "provenance": [],
      "authorship_tag": "ABX9TyNw5Zg2GfnjAXWMbQ678MgU",
      "include_colab_link": true
    },
    "kernelspec": {
      "name": "python3",
      "display_name": "Python 3"
    },
    "language_info": {
      "name": "python"
    }
  },
  "cells": [
    {
      "cell_type": "markdown",
      "metadata": {
        "id": "view-in-github",
        "colab_type": "text"
      },
      "source": [
        "<a href=\"https://colab.research.google.com/github/asadbek11211/NumPy_exsampls/blob/main/Multi_indekslash.ipynb\" target=\"_parent\"><img src=\"https://colab.research.google.com/assets/colab-badge.svg\" alt=\"Open In Colab\"/></a>"
      ]
    },
    {
      "cell_type": "markdown",
      "source": [
        "# Multi indekslash"
      ],
      "metadata": {
        "id": "EFBtN8Yv3BSy"
      }
    },
    {
      "cell_type": "code",
      "execution_count": 1,
      "metadata": {
        "id": "n6MJR5r620Bt"
      },
      "outputs": [],
      "source": [
        "import pandas as pd\n",
        "import numpy as np"
      ]
    },
    {
      "cell_type": "markdown",
      "source": [
        "Hierarchical indexing"
      ],
      "metadata": {
        "id": "NTkFhtfI3Umk"
      }
    },
    {
      "cell_type": "code",
      "source": [
        "data = pd.Series(np.random.rand(10), index=['a','a','a','a','b','b','c','c','d','d'])\n",
        "data"
      ],
      "metadata": {
        "colab": {
          "base_uri": "https://localhost:8080/"
        },
        "id": "0wjKys3e3NWE",
        "outputId": "612c3420-a48b-4be3-c7bd-9827fd0199fa"
      },
      "execution_count": 4,
      "outputs": [
        {
          "output_type": "execute_result",
          "data": {
            "text/plain": [
              "a    0.508100\n",
              "a    0.500568\n",
              "a    0.878943\n",
              "a    0.805773\n",
              "b    0.936974\n",
              "b    0.671347\n",
              "c    0.620128\n",
              "c    0.567634\n",
              "d    0.831859\n",
              "d    0.445137\n",
              "dtype: float64"
            ]
          },
          "metadata": {},
          "execution_count": 4
        }
      ]
    },
    {
      "cell_type": "code",
      "source": [
        "data.index"
      ],
      "metadata": {
        "colab": {
          "base_uri": "https://localhost:8080/"
        },
        "id": "FxDhYQJU4BaO",
        "outputId": "1e9b3378-e3d7-4043-b1c7-3c87b4e231be"
      },
      "execution_count": 5,
      "outputs": [
        {
          "output_type": "execute_result",
          "data": {
            "text/plain": [
              "Index(['a', 'a', 'a', 'a', 'b', 'b', 'c', 'c', 'd', 'd'], dtype='object')"
            ]
          },
          "metadata": {},
          "execution_count": 5
        }
      ]
    },
    {
      "cell_type": "code",
      "source": [
        "data1 = pd.Series(np.random.rand(10), index=[['a','a','a','a','b','b','c','c','d','d'],[1,2,3,4,1,2,1,2,1,2]])\n",
        "data1"
      ],
      "metadata": {
        "colab": {
          "base_uri": "https://localhost:8080/"
        },
        "id": "3mwNxq9m4XRU",
        "outputId": "af4e8436-03a2-435e-e49e-fa031c68e634"
      },
      "execution_count": 8,
      "outputs": [
        {
          "output_type": "execute_result",
          "data": {
            "text/plain": [
              "a  1    0.235938\n",
              "   2    0.223333\n",
              "   3    0.042993\n",
              "   4    0.312391\n",
              "b  1    0.795531\n",
              "   2    0.957433\n",
              "c  1    0.090277\n",
              "   2    0.727893\n",
              "d  1    0.918281\n",
              "   2    0.418731\n",
              "dtype: float64"
            ]
          },
          "metadata": {},
          "execution_count": 8
        }
      ]
    },
    {
      "cell_type": "code",
      "source": [
        "data1.index"
      ],
      "metadata": {
        "colab": {
          "base_uri": "https://localhost:8080/"
        },
        "id": "OUVKnF0o46Nu",
        "outputId": "e2fd4da8-00b2-4677-e031-4194825065da"
      },
      "execution_count": 9,
      "outputs": [
        {
          "output_type": "execute_result",
          "data": {
            "text/plain": [
              "MultiIndex([('a', 1),\n",
              "            ('a', 2),\n",
              "            ('a', 3),\n",
              "            ('a', 4),\n",
              "            ('b', 1),\n",
              "            ('b', 2),\n",
              "            ('c', 1),\n",
              "            ('c', 2),\n",
              "            ('d', 1),\n",
              "            ('d', 2)],\n",
              "           )"
            ]
          },
          "metadata": {},
          "execution_count": 9
        }
      ]
    },
    {
      "cell_type": "code",
      "source": [
        "data1['a']"
      ],
      "metadata": {
        "colab": {
          "base_uri": "https://localhost:8080/"
        },
        "id": "ELm_HT1f5T_M",
        "outputId": "42b9e23f-e47e-417b-8753-9867ea610f94"
      },
      "execution_count": 10,
      "outputs": [
        {
          "output_type": "execute_result",
          "data": {
            "text/plain": [
              "1    0.235938\n",
              "2    0.223333\n",
              "3    0.042993\n",
              "4    0.312391\n",
              "dtype: float64"
            ]
          },
          "metadata": {},
          "execution_count": 10
        }
      ]
    },
    {
      "cell_type": "code",
      "source": [
        "data1[:,2]"
      ],
      "metadata": {
        "colab": {
          "base_uri": "https://localhost:8080/"
        },
        "id": "567AXjvP5bjt",
        "outputId": "5d18b813-76b5-461f-9e6a-c3388c9c9794"
      },
      "execution_count": 11,
      "outputs": [
        {
          "output_type": "execute_result",
          "data": {
            "text/plain": [
              "a    0.223333\n",
              "b    0.957433\n",
              "c    0.727893\n",
              "d    0.418731\n",
              "dtype: float64"
            ]
          },
          "metadata": {},
          "execution_count": 11
        }
      ]
    },
    {
      "cell_type": "code",
      "source": [
        "data1.loc[['c','a']]"
      ],
      "metadata": {
        "colab": {
          "base_uri": "https://localhost:8080/"
        },
        "id": "SgLVDPRh5hc8",
        "outputId": "0b538625-b100-499b-a117-701300442552"
      },
      "execution_count": 13,
      "outputs": [
        {
          "output_type": "execute_result",
          "data": {
            "text/plain": [
              "c  1    0.090277\n",
              "   2    0.727893\n",
              "a  1    0.235938\n",
              "   2    0.223333\n",
              "   3    0.042993\n",
              "   4    0.312391\n",
              "dtype: float64"
            ]
          },
          "metadata": {},
          "execution_count": 13
        }
      ]
    }
  ]
}