{
 "cells": [
  {
   "cell_type": "code",
   "execution_count": 2,
   "id": "67392505",
   "metadata": {},
   "outputs": [
    {
     "data": {
      "text/plain": [
       "array([0, 1, 2, 3, 4, 5, 6, 7, 8])"
      ]
     },
     "execution_count": 2,
     "metadata": {},
     "output_type": "execute_result"
    }
   ],
   "source": [
    "import numpy as np\n",
    "array = np.array(range(0,9))\n",
    "array\n"
   ]
  },
  {
   "cell_type": "code",
   "execution_count": 5,
   "id": "ce58634f",
   "metadata": {},
   "outputs": [
    {
     "data": {
      "text/plain": [
       "array([[0, 1, 2],\n",
       "       [3, 4, 5],\n",
       "       [6, 7, 8]])"
      ]
     },
     "execution_count": 5,
     "metadata": {},
     "output_type": "execute_result"
    }
   ],
   "source": [
    "arr = array.reshape(3,3)\n",
    "arr"
   ]
  },
  {
   "cell_type": "code",
   "execution_count": 14,
   "id": "9b17cc13",
   "metadata": {},
   "outputs": [
    {
     "data": {
      "text/plain": [
       "array([6, 7])"
      ]
     },
     "execution_count": 14,
     "metadata": {},
     "output_type": "execute_result"
    }
   ],
   "source": [
    "arr[2,:2]\n"
   ]
  },
  {
   "cell_type": "code",
   "execution_count": 13,
   "id": "1af599c5",
   "metadata": {},
   "outputs": [
    {
     "data": {
      "text/plain": [
       "array([6, 7])"
      ]
     },
     "execution_count": 13,
     "metadata": {},
     "output_type": "execute_result"
    }
   ],
   "source": [
    "arr[2,:2]"
   ]
  },
  {
   "cell_type": "code",
   "execution_count": 15,
   "id": "c8a126d6",
   "metadata": {},
   "outputs": [
    {
     "data": {
      "text/plain": [
       "[[[0, 1, 2], [3, 4, 5], [6, 7, 8]],\n",
       " [[9, 10, 11], [12, 13, 14], [15, 16, 17]],\n",
       " [[18, 19, 20], [21, 22, 23], [24, 25, 26]]]"
      ]
     },
     "execution_count": 15,
     "metadata": {},
     "output_type": "execute_result"
    }
   ],
   "source": [
    "array1= [[[ 0,  1,  2],\n",
    "                [ 3,  4,  5],\n",
    "                [ 6,  7,  8]],\n",
    "\n",
    "               [[ 9, 10, 11],\n",
    "                [12, 13, 14],\n",
    "                [15, 16, 17]],\n",
    "\n",
    "               [[18, 19, 20],\n",
    "                [21, 22, 23],\n",
    "                [24, 25, 26]]]\n",
    "array1"
   ]
  },
  {
   "cell_type": "code",
   "execution_count": 28,
   "id": "5c6091f0",
   "metadata": {},
   "outputs": [
    {
     "data": {
      "text/plain": [
       "3"
      ]
     },
     "execution_count": 28,
     "metadata": {},
     "output_type": "execute_result"
    }
   ],
   "source": [
    "ar = np.array(array1, ndmin=2)\n",
    "ar.ndim"
   ]
  },
  {
   "cell_type": "code",
   "execution_count": 32,
   "id": "a8cd85a7",
   "metadata": {},
   "outputs": [
    {
     "ename": "ValueError",
     "evalue": "cannot reshape array of size 27 into shape (2,3,3)",
     "output_type": "error",
     "traceback": [
      "\u001b[1;31m---------------------------------------------------------------------------\u001b[0m",
      "\u001b[1;31mValueError\u001b[0m                                Traceback (most recent call last)",
      "Cell \u001b[1;32mIn[32], line 2\u001b[0m\n\u001b[0;32m      1\u001b[0m a \u001b[38;5;241m=\u001b[39m np\u001b[38;5;241m.\u001b[39marray(\u001b[38;5;28mrange\u001b[39m(\u001b[38;5;241m0\u001b[39m,\u001b[38;5;241m27\u001b[39m), ndmin\u001b[38;5;241m=\u001b[39m\u001b[38;5;241m2\u001b[39m)\n\u001b[1;32m----> 2\u001b[0m \u001b[43ma\u001b[49m\u001b[38;5;241;43m.\u001b[39;49m\u001b[43mreshape\u001b[49m\u001b[43m(\u001b[49m\u001b[38;5;241;43m2\u001b[39;49m\u001b[43m,\u001b[49m\u001b[38;5;241;43m3\u001b[39;49m\u001b[43m,\u001b[49m\u001b[38;5;241;43m3\u001b[39;49m\u001b[43m)\u001b[49m\n",
      "\u001b[1;31mValueError\u001b[0m: cannot reshape array of size 27 into shape (2,3,3)"
     ]
    }
   ],
   "source": [
    "a = np.array(range(0,27), ndmin=2)\n",
    "a.reshape(2,3,3)"
   ]
  },
  {
   "cell_type": "code",
   "execution_count": null,
   "id": "3b42c38b",
   "metadata": {},
   "outputs": [],
   "source": []
  }
 ],
 "metadata": {
  "kernelspec": {
   "display_name": "Python 3 (ipykernel)",
   "language": "python",
   "name": "python3"
  },
  "language_info": {
   "codemirror_mode": {
    "name": "ipython",
    "version": 3
   },
   "file_extension": ".py",
   "mimetype": "text/x-python",
   "name": "python",
   "nbconvert_exporter": "python",
   "pygments_lexer": "ipython3",
   "version": "3.9.16"
  }
 },
 "nbformat": 4,
 "nbformat_minor": 5
}
